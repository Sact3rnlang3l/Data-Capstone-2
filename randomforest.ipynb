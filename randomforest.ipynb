{
 "cells": [
  {
   "cell_type": "code",
   "execution_count": 1,
   "metadata": {
    "execution": {
     "iopub.execute_input": "2021-08-22T19:33:30.986016Z",
     "iopub.status.busy": "2021-08-22T19:33:30.985596Z",
     "iopub.status.idle": "2021-08-22T19:33:31.220756Z",
     "shell.execute_reply": "2021-08-22T19:33:31.2195Z",
     "shell.execute_reply.started": "2021-08-22T19:33:30.985983Z"
    },
    "id": "0KJ2EpD42U0w"
   },
   "outputs": [
    {
     "ename": "ModuleNotFoundError",
     "evalue": "No module named 'xgboost'",
     "output_type": "error",
     "traceback": [
      "\u001b[0;31m---------------------------------------------------------------------------\u001b[0m",
      "\u001b[0;31mModuleNotFoundError\u001b[0m                       Traceback (most recent call last)",
      "\u001b[0;32m/var/folders/sb/bchxjm1169vdnzd4mfvxyx9w0000gn/T/ipykernel_11154/4162977898.py\u001b[0m in \u001b[0;36m<module>\u001b[0;34m\u001b[0m\n\u001b[1;32m     25\u001b[0m \u001b[0;32mfrom\u001b[0m \u001b[0msklearn\u001b[0m\u001b[0;34m.\u001b[0m\u001b[0mtree\u001b[0m \u001b[0;32mimport\u001b[0m \u001b[0mDecisionTreeRegressor\u001b[0m\u001b[0;34m\u001b[0m\u001b[0;34m\u001b[0m\u001b[0m\n\u001b[1;32m     26\u001b[0m \u001b[0;32mfrom\u001b[0m \u001b[0msklearn\u001b[0m\u001b[0;34m.\u001b[0m\u001b[0mensemble\u001b[0m \u001b[0;32mimport\u001b[0m \u001b[0mRandomForestRegressor\u001b[0m\u001b[0;34m,\u001b[0m \u001b[0mExtraTreesRegressor\u001b[0m\u001b[0;34m\u001b[0m\u001b[0;34m\u001b[0m\u001b[0m\n\u001b[0;32m---> 27\u001b[0;31m \u001b[0;32mfrom\u001b[0m \u001b[0mxgboost\u001b[0m \u001b[0;32mimport\u001b[0m \u001b[0mXGBRegressor\u001b[0m\u001b[0;34m\u001b[0m\u001b[0;34m\u001b[0m\u001b[0m\n\u001b[0m\u001b[1;32m     28\u001b[0m \u001b[0;32mfrom\u001b[0m \u001b[0msklearn\u001b[0m\u001b[0;34m.\u001b[0m\u001b[0mmodel_selection\u001b[0m \u001b[0;32mimport\u001b[0m \u001b[0mGridSearchCV\u001b[0m\u001b[0;34m,\u001b[0m \u001b[0mRandomizedSearchCV\u001b[0m\u001b[0;34m\u001b[0m\u001b[0;34m\u001b[0m\u001b[0m\n",
      "\u001b[0;31mModuleNotFoundError\u001b[0m: No module named 'xgboost'"
     ]
    }
   ],
   "source": [
    "# importing all the libraries needed \n",
    "import numpy as np\n",
    "import pandas as pd\n",
    "import scipy.stats as stats\n",
    "import matplotlib.pyplot as plt\n",
    "import sklearn\n",
    "import seaborn as sns\n",
    "sns.set_style(\"whitegrid\")\n",
    "from sklearn import datasets, linear_model\n",
    "from sklearn.model_selection import train_test_split\n",
    "from sklearn.preprocessing import StandardScaler, LabelEncoder\n",
    "import warnings\n",
    "warnings.filterwarnings('ignore')\n",
    "from sklearn.metrics import mean_squared_error, mean_absolute_error\n",
    "\n",
    "#For date time functions\n",
    "from datetime import datetime\n",
    "from datetime import timedelta\n",
    "import math\n",
    "\n",
    "# Importing the most popular regression libraries.\n",
    "from sklearn.neighbors import KNeighborsRegressor\n",
    "from sklearn.linear_model import LinearRegression, LogisticRegression, ridge_regression, Lasso, SGDRegressor, Ridge\n",
    "from sklearn.svm import SVR\n",
    "from sklearn.tree import DecisionTreeRegressor\n",
    "from sklearn.ensemble import RandomForestRegressor, ExtraTreesRegressor\n",
    "from xgboost import XGBRegressor\n",
    "from sklearn.model_selection import GridSearchCV, RandomizedSearchCV"
   ]
  },
  {
   "cell_type": "code",
   "execution_count": null,
   "metadata": {
    "execution": {
     "iopub.execute_input": "2021-08-22T19:33:31.225062Z",
     "iopub.status.busy": "2021-08-22T19:33:31.224707Z",
     "iopub.status.idle": "2021-08-22T19:33:31.837187Z",
     "shell.execute_reply": "2021-08-22T19:33:31.836307Z",
     "shell.execute_reply.started": "2021-08-22T19:33:31.225032Z"
    },
    "id": "YJI9CgfF2U01"
   },
   "outputs": [],
   "source": [
    "train_data=pd.read_csv('/kaggle/input/walmart-recruiting-store-sales-forecasting/train.csv.zip',parse_dates=True)\n",
    "sample_submission=pd.read_csv('/kaggle/input/walmart-recruiting-store-sales-forecasting/sampleSubmission.csv.zip')\n",
    "features_data=pd.read_csv('/kaggle/input/walmart-recruiting-store-sales-forecasting/features.csv.zip',parse_dates=True)\n",
    "stores_data=pd.read_csv('/kaggle/input/walmart-recruiting-store-sales-forecasting/stores.csv')\n",
    "test_data=pd.read_csv('/kaggle/input/walmart-recruiting-store-sales-forecasting/test.csv.zip')"
   ]
  },
  {
   "cell_type": "code",
   "execution_count": null,
   "metadata": {
    "execution": {
     "iopub.execute_input": "2021-08-22T19:33:31.839319Z",
     "iopub.status.busy": "2021-08-22T19:33:31.83899Z",
     "iopub.status.idle": "2021-08-22T19:35:46.550967Z",
     "shell.execute_reply": "2021-08-22T19:35:46.549825Z",
     "shell.execute_reply.started": "2021-08-22T19:33:31.839287Z"
    },
    "id": "nuturLtq2U02",
    "outputId": "cbaa5336-abdb-4c22-e17f-134f999a3677"
   },
   "outputs": [],
   "source": [
    "from fbprophet import Prophet\n",
    "import tqdm.notebook as tq\n",
    "df = pd.DataFrame()\n",
    "for i in tq.tqdm(range(1,46)):\n",
    "    model=Prophet()\n",
    "    filled=features_data[((features_data['Store']==i) & (features_data['Date']<'2013-05-03'))][['Date','CPI']]\n",
    "    tserie = filled.rename(columns = {'Date': 'ds', 'CPI': 'y'}, inplace = False)\n",
    "    tserie =tserie.sort_values(by=['ds'])\n",
    "    tserie['ds'] = pd.to_datetime(tserie['ds'])\n",
    "    model.fit(tserie)\n",
    "    future_dates=model.make_future_dataframe(periods=13,freq = 'W',include_history =True)\n",
    "    future_dates['ds'] = future_dates['ds'].apply(lambda x: x + timedelta(days=5))\n",
    "    prediction=model.predict(future_dates)\n",
    "    df=df.append(prediction)\n",
    "\n",
    "df.reset_index(drop=True)\n",
    "features_data['CPI1']=np.nan\n",
    "for i,j in enumerate(df['yhat']):\n",
    "    features_data['CPI1'].iloc[i]=j\n",
    "\n",
    "features_data=features_data.drop(['CPI'],axis=1)\n",
    "features_data = features_data.rename(columns = {'CPI1': 'CPI'})"
   ]
  },
  {
   "cell_type": "code",
   "execution_count": null,
   "metadata": {
    "execution": {
     "iopub.execute_input": "2021-08-22T19:35:46.553331Z",
     "iopub.status.busy": "2021-08-22T19:35:46.552915Z",
     "iopub.status.idle": "2021-08-22T19:37:37.40163Z",
     "shell.execute_reply": "2021-08-22T19:37:37.40073Z",
     "shell.execute_reply.started": "2021-08-22T19:35:46.553294Z"
    },
    "id": "2Q2ayM432U04",
    "outputId": "f40066f6-ef89-4a9b-a244-782821c3baf3"
   },
   "outputs": [],
   "source": [
    "from fbprophet import Prophet\n",
    "import tqdm.notebook as tq\n",
    "df = pd.DataFrame()\n",
    "for i in tq.tqdm(range(1,46)):\n",
    "    model=Prophet()\n",
    "    filled=features_data[((features_data['Store']==i) & (features_data['Date']<'2013-05-03'))][['Date','Unemployment']]\n",
    "    tserie = filled.rename(columns = {'Date': 'ds', 'Unemployment': 'y'}, inplace = False)\n",
    "    tserie =tserie.sort_values(by=['ds'])\n",
    "    tserie['ds'] = pd.to_datetime(tserie['ds'])\n",
    "    model.fit(tserie)\n",
    "    future_dates=model.make_future_dataframe(periods=13,freq = 'W',include_history =True)\n",
    "    future_dates['ds'] = future_dates['ds'].apply(lambda x: x + timedelta(days=5))\n",
    "    prediction=model.predict(future_dates)\n",
    "    df=df.append(prediction)\n",
    "\n",
    "df.reset_index(drop=True)\n",
    "features_data['Unemployment1']=np.nan\n",
    "for i,j in enumerate(df['yhat']):\n",
    "    features_data['Unemployment1'].iloc[i]=j\n",
    "\n",
    "features_data=features_data.drop(['Unemployment'],axis=1)\n",
    "features_data = features_data.rename(columns = {'Unemployment1': 'Unemployment'})"
   ]
  },
  {
   "cell_type": "code",
   "execution_count": null,
   "metadata": {
    "execution": {
     "iopub.execute_input": "2021-08-22T19:37:37.403413Z",
     "iopub.status.busy": "2021-08-22T19:37:37.402901Z",
     "iopub.status.idle": "2021-08-22T19:37:37.565348Z",
     "shell.execute_reply": "2021-08-22T19:37:37.564361Z",
     "shell.execute_reply.started": "2021-08-22T19:37:37.403366Z"
    },
    "id": "OVFxSomz2U06"
   },
   "outputs": [],
   "source": [
    "stores = stores_data.merge(features_data, on ='Store' , how = 'left')\n",
    "final_data_train = train_data.merge(stores, on = ['Store', 'Date', 'IsHoliday'], how = 'left')"
   ]
  },
  {
   "cell_type": "code",
   "execution_count": null,
   "metadata": {
    "execution": {
     "iopub.execute_input": "2021-08-22T19:37:37.567187Z",
     "iopub.status.busy": "2021-08-22T19:37:37.566758Z",
     "iopub.status.idle": "2021-08-22T19:37:37.624966Z",
     "shell.execute_reply": "2021-08-22T19:37:37.623865Z",
     "shell.execute_reply.started": "2021-08-22T19:37:37.567142Z"
    },
    "id": "pokGeMBS2U06"
   },
   "outputs": [],
   "source": [
    "stores = stores_data.merge(features_data, on ='Store' , how = 'left')\n",
    "final_data_test = test_data.merge(stores, on = ['Store', 'Date', 'IsHoliday'], how = 'left')"
   ]
  },
  {
   "cell_type": "code",
   "execution_count": null,
   "metadata": {
    "execution": {
     "iopub.execute_input": "2021-08-22T19:37:37.626679Z",
     "iopub.status.busy": "2021-08-22T19:37:37.626314Z",
     "iopub.status.idle": "2021-08-22T19:37:37.633872Z",
     "shell.execute_reply": "2021-08-22T19:37:37.632671Z",
     "shell.execute_reply.started": "2021-08-22T19:37:37.626646Z"
    },
    "id": "w4XzIIYH2U07",
    "outputId": "2cc8eeda-9ba4-4a3a-9f50-18e1e9068276"
   },
   "outputs": [],
   "source": [
    "print(final_data_train.shape)\n",
    "print(final_data_test.shape)"
   ]
  },
  {
   "cell_type": "code",
   "execution_count": null,
   "metadata": {
    "execution": {
     "iopub.execute_input": "2021-08-22T19:37:37.635565Z",
     "iopub.status.busy": "2021-08-22T19:37:37.635205Z",
     "iopub.status.idle": "2021-08-22T19:37:37.645451Z",
     "shell.execute_reply": "2021-08-22T19:37:37.644423Z",
     "shell.execute_reply.started": "2021-08-22T19:37:37.635533Z"
    },
    "id": "GsikHSJx2U09"
   },
   "outputs": [],
   "source": [
    "def markdown_imputation(final_data):    \n",
    "    final_data.loc[final_data.MarkDown1.isnull() ,'MarkDown1']= 0\n",
    "    final_data.loc[final_data.MarkDown2.isnull() ,'MarkDown2']= 0\n",
    "    final_data.loc[final_data.MarkDown3.isnull() ,'MarkDown3']= 0\n",
    "    final_data.loc[final_data.MarkDown4.isnull() ,'MarkDown4']= 0\n",
    "    final_data.loc[final_data.MarkDown5.isnull() ,'MarkDown5']= 0\n",
    "    return final_data"
   ]
  },
  {
   "cell_type": "code",
   "execution_count": null,
   "metadata": {
    "execution": {
     "iopub.execute_input": "2021-08-22T19:37:37.650673Z",
     "iopub.status.busy": "2021-08-22T19:37:37.650253Z",
     "iopub.status.idle": "2021-08-22T19:37:37.658273Z",
     "shell.execute_reply": "2021-08-22T19:37:37.657128Z",
     "shell.execute_reply.started": "2021-08-22T19:37:37.650631Z"
    },
    "id": "PWU2i1ym2U0-"
   },
   "outputs": [],
   "source": [
    "def weekly_sales_imputation(final_data):    \n",
    "    final_data[final_data.Weekly_Sales<0]\n",
    "    print('before removing negative weekly sales ,shape of final dataframe is :',final_data.shape)\n",
    "    final_data=final_data[final_data.Weekly_Sales>=0]\n",
    "    print('after removing negative weekly sales ,shape of final dataframe is :',final_data.shape)\n",
    "    return final_data"
   ]
  },
  {
   "cell_type": "code",
   "execution_count": null,
   "metadata": {
    "execution": {
     "iopub.execute_input": "2021-08-22T19:37:37.662041Z",
     "iopub.status.busy": "2021-08-22T19:37:37.661523Z",
     "iopub.status.idle": "2021-08-22T19:37:37.681419Z",
     "shell.execute_reply": "2021-08-22T19:37:37.680067Z",
     "shell.execute_reply.started": "2021-08-22T19:37:37.661964Z"
    },
    "id": "AhWC28hi2U0_"
   },
   "outputs": [],
   "source": [
    "def train_temp_bins(final_data):\n",
    "    temp_100_110_f=final_data[((final_data.Temperature>100) & (final_data.Temperature< 110))].Weekly_Sales.sum()\n",
    "    temp_90_100_f=final_data[((final_data.Temperature>90) & (final_data.Temperature< 100))].Weekly_Sales.sum()\n",
    "    temp_80_90_f=final_data[((final_data.Temperature>80) & (final_data.Temperature< 90))].Weekly_Sales.sum()\n",
    "    temp_70_80_f=final_data[((final_data.Temperature>70) & (final_data.Temperature< 80))].Weekly_Sales.sum()\n",
    "    temp_60_70_f=final_data[((final_data.Temperature>60) & (final_data.Temperature< 70))].Weekly_Sales.sum()\n",
    "    temp_50_60_f=final_data[((final_data.Temperature>50) & (final_data.Temperature< 60))].Weekly_Sales.sum()\n",
    "    temp_40_50_f=final_data[((final_data.Temperature>40) & (final_data.Temperature< 50))].Weekly_Sales.sum()\n",
    "    temp_30_40_f=final_data[((final_data.Temperature>30) & (final_data.Temperature< 40))].Weekly_Sales.sum() \n",
    "    temp_0_30_f=final_data[((final_data.Temperature>0) & (final_data.Temperature< 30))].Weekly_Sales.sum()   \n",
    "    temp_less_than_0_f=final_data[((final_data.Temperature>-10) & (final_data.Temperature< 0))].Weekly_Sales.sum()\n",
    "    final_data['Temp_bins'] = np.nan\n",
    "    final_data.loc[((final_data.Temperature>-10) & (final_data.Temperature<0)) ,'Temp_bins']= temp_less_than_0_f\n",
    "    final_data.loc[((final_data.Temperature>0) & (final_data.Temperature< 30)) ,'Temp_bins']= temp_0_30_f\n",
    "    final_data.loc[((final_data.Temperature>30) & (final_data.Temperature< 40)) ,'Temp_bins']= temp_30_40_f\n",
    "    final_data.loc[((final_data.Temperature>40) & (final_data.Temperature< 50)) ,'Temp_bins']= temp_40_50_f\n",
    "    final_data.loc[((final_data.Temperature>50) & (final_data.Temperature< 60)) ,'Temp_bins']= temp_50_60_f\n",
    "    final_data.loc[((final_data.Temperature>60) & (final_data.Temperature< 70)) ,'Temp_bins']= temp_60_70_f\n",
    "    final_data.loc[((final_data.Temperature>70) & (final_data.Temperature< 80)) ,'Temp_bins']= temp_70_80_f\n",
    "    final_data.loc[((final_data.Temperature>80) & (final_data.Temperature< 90)) ,'Temp_bins']= temp_80_90_f\n",
    "    final_data.loc[((final_data.Temperature>90) & (final_data.Temperature< 100)),'Temp_bins']= temp_90_100_f\n",
    "    final_data.loc[((final_data.Temperature>100) & (final_data.Temperature< 110)),'Temp_bins']= temp_100_110_f\n",
    "    final_data.loc[final_data.Temp_bins.isnull() ,'Temp_bins']= 0\n",
    "    list1=[temp_less_than_0_f,temp_0_30_f,temp_30_40_f,temp_40_50_f,temp_50_60_f,temp_60_70_f,temp_70_80_f,temp_80_90_f,temp_90_100_f,temp_100_110_f]\n",
    "    return final_data,list1"
   ]
  },
  {
   "cell_type": "code",
   "execution_count": null,
   "metadata": {
    "execution": {
     "iopub.execute_input": "2021-08-22T19:37:37.683485Z",
     "iopub.status.busy": "2021-08-22T19:37:37.68301Z",
     "iopub.status.idle": "2021-08-22T19:37:37.69702Z",
     "shell.execute_reply": "2021-08-22T19:37:37.695804Z",
     "shell.execute_reply.started": "2021-08-22T19:37:37.683447Z"
    },
    "id": "b-e4U2xe2U1A"
   },
   "outputs": [],
   "source": [
    "def test_temp_bins(final_data,list1):\n",
    "    final_data['Temp_bins'] = np.nan\n",
    "    final_data.loc[((final_data.Temperature>-10) & (final_data.Temperature<0)) ,'Temp_bins']= list1[0]\n",
    "    final_data.loc[((final_data.Temperature>0) & (final_data.Temperature< 30)) ,'Temp_bins']= list1[1]\n",
    "    final_data.loc[((final_data.Temperature>30) & (final_data.Temperature< 40)) ,'Temp_bins']= list1[2]\n",
    "    final_data.loc[((final_data.Temperature>40) & (final_data.Temperature< 50)) ,'Temp_bins']= list1[3]\n",
    "    final_data.loc[((final_data.Temperature>50) & (final_data.Temperature< 60)) ,'Temp_bins']= list1[4]\n",
    "    final_data.loc[((final_data.Temperature>60) & (final_data.Temperature< 70)) ,'Temp_bins']= list1[5]\n",
    "    final_data.loc[((final_data.Temperature>70) & (final_data.Temperature< 80)) ,'Temp_bins']= list1[6]\n",
    "    final_data.loc[((final_data.Temperature>80) & (final_data.Temperature< 90)) ,'Temp_bins']= list1[7]\n",
    "    final_data.loc[((final_data.Temperature>90) & (final_data.Temperature< 100)),'Temp_bins']= list1[8]\n",
    "    final_data.loc[((final_data.Temperature>100) & (final_data.Temperature< 110)),'Temp_bins']= list1[9]\n",
    "    final_data.loc[final_data.Temp_bins.isnull() ,'Temp_bins']= 0\n",
    "    return final_data"
   ]
  },
  {
   "cell_type": "code",
   "execution_count": null,
   "metadata": {
    "execution": {
     "iopub.execute_input": "2021-08-22T19:37:37.698761Z",
     "iopub.status.busy": "2021-08-22T19:37:37.698452Z",
     "iopub.status.idle": "2021-08-22T19:37:37.713697Z",
     "shell.execute_reply": "2021-08-22T19:37:37.712186Z",
     "shell.execute_reply.started": "2021-08-22T19:37:37.698731Z"
    },
    "id": "SOWlFCaV2U1B"
   },
   "outputs": [],
   "source": [
    "def split(final_data):\n",
    "    final_data['Date'] = pd.to_datetime(final_data['Date'])\n",
    "    final_data['Year'] = final_data['Date'].dt.year\n",
    "    final_data['Month']= final_data['Date'].dt.month\n",
    "    final_data['Week'] = final_data['Date'].dt.week\n",
    "    final_data['Day']  = final_data['Date'].dt.day\n",
    "    return final_data"
   ]
  },
  {
   "cell_type": "code",
   "execution_count": null,
   "metadata": {
    "execution": {
     "iopub.execute_input": "2021-08-22T19:37:37.715715Z",
     "iopub.status.busy": "2021-08-22T19:37:37.715266Z",
     "iopub.status.idle": "2021-08-22T19:37:37.725125Z",
     "shell.execute_reply": "2021-08-22T19:37:37.724101Z",
     "shell.execute_reply.started": "2021-08-22T19:37:37.715677Z"
    },
    "id": "XaETO-6e2U1C"
   },
   "outputs": [],
   "source": [
    "import datetime\n",
    "def days_from_christmas_for_train(x):\n",
    "    if x['Year']== 2010 :\n",
    "        diff=datetime.datetime(2010, 12, 31)-x['Date']\n",
    "        return diff.days\n",
    "    if ((x['Year']== 2011) and (x['Date']< datetime.datetime(2011, 12, 30))):\n",
    "        diff=datetime.datetime(2011, 12, 30)-x['Date']\n",
    "        return diff.days\n",
    "    else:\n",
    "        return 0"
   ]
  },
  {
   "cell_type": "code",
   "execution_count": null,
   "metadata": {
    "execution": {
     "iopub.execute_input": "2021-08-22T19:37:37.726782Z",
     "iopub.status.busy": "2021-08-22T19:37:37.726383Z",
     "iopub.status.idle": "2021-08-22T19:37:37.73906Z",
     "shell.execute_reply": "2021-08-22T19:37:37.737525Z",
     "shell.execute_reply.started": "2021-08-22T19:37:37.726749Z"
    },
    "id": "iFhoAOoM2U1C"
   },
   "outputs": [],
   "source": [
    "import datetime\n",
    "def days_from_christmas_for_test(x):\n",
    "    if x['Year']== 2010 :\n",
    "        diff=datetime.datetime(2010, 12, 31)-x['Date']\n",
    "        return diff.days\n",
    "    if ((x['Year']== 2011) and (x['Date']< datetime.datetime(2011, 12, 30))):\n",
    "        diff=datetime.datetime(2011, 12, 30)-x['Date']\n",
    "        return diff.days\n",
    "    if ((x['Year']== 2012) and (x['Date']< datetime.datetime(2012, 12, 28))):\n",
    "        diff=datetime.datetime(2012, 12, 28)-x['Date']\n",
    "        return diff.days\n",
    "    if ((x['Year']== 2013) and (x['Date']< datetime.datetime(2013, 12, 27))):\n",
    "        diff=datetime.datetime(2013, 12, 27)-x['Date']\n",
    "        return diff.days\n",
    "    else:\n",
    "        return 0   "
   ]
  },
  {
   "cell_type": "code",
   "execution_count": null,
   "metadata": {
    "execution": {
     "iopub.execute_input": "2021-08-22T19:37:37.741151Z",
     "iopub.status.busy": "2021-08-22T19:37:37.740539Z",
     "iopub.status.idle": "2021-08-22T19:37:37.754168Z",
     "shell.execute_reply": "2021-08-22T19:37:37.753132Z",
     "shell.execute_reply.started": "2021-08-22T19:37:37.741109Z"
    },
    "id": "91XoxezZ2U1D"
   },
   "outputs": [],
   "source": [
    "def days_from_thanksgiving_for_train(x):\n",
    "    if ((x['Year']== 2010) and (x['Date']< datetime.datetime(2010, 11, 26))):\n",
    "        diff=datetime.datetime(2010, 11, 26)-x['Date']\n",
    "        return diff.days\n",
    "    if ((x['Year']== 2011) and (x['Date']< datetime.datetime(2011, 11, 25))):\n",
    "        diff=datetime.datetime(2011, 11, 25)-x['Date']\n",
    "        return diff.days\n",
    "    else:\n",
    "        return 0"
   ]
  },
  {
   "cell_type": "code",
   "execution_count": null,
   "metadata": {
    "execution": {
     "iopub.execute_input": "2021-08-22T19:37:37.756205Z",
     "iopub.status.busy": "2021-08-22T19:37:37.755623Z",
     "iopub.status.idle": "2021-08-22T19:37:37.767065Z",
     "shell.execute_reply": "2021-08-22T19:37:37.765741Z",
     "shell.execute_reply.started": "2021-08-22T19:37:37.75615Z"
    },
    "id": "Ypl7yANz2U1E"
   },
   "outputs": [],
   "source": [
    "def days_from_thanksgiving_for_test(x):\n",
    "    if ((x['Year']== 2010) and (x['Date']< datetime.datetime(2010, 11, 26))):\n",
    "        diff=datetime.datetime(2010, 11, 26)-x['Date']\n",
    "        return diff.days\n",
    "    if ((x['Year']== 2011) and (x['Date']< datetime.datetime(2011, 11, 25))):\n",
    "        diff=datetime.datetime(2011, 11, 25)-x['Date']\n",
    "        return diff.days\n",
    "    if ((x['Year']== 2012) and (x['Date']< datetime.datetime(2012, 11, 23))):\n",
    "        diff=datetime.datetime(2012, 11, 23)-x['Date']\n",
    "        return diff.days\n",
    "    if ((x['Year']== 2013) and (x['Date']< datetime.datetime(2013, 11, 29))):\n",
    "        diff=datetime.datetime(2013, 11, 29)-x['Date']\n",
    "        return diff.days\n",
    "    else:\n",
    "        return 0"
   ]
  },
  {
   "cell_type": "code",
   "execution_count": null,
   "metadata": {
    "execution": {
     "iopub.execute_input": "2021-08-22T19:37:37.769352Z",
     "iopub.status.busy": "2021-08-22T19:37:37.768841Z",
     "iopub.status.idle": "2021-08-22T19:37:37.780973Z",
     "shell.execute_reply": "2021-08-22T19:37:37.77992Z",
     "shell.execute_reply.started": "2021-08-22T19:37:37.769296Z"
    },
    "id": "PBZCScn02U1E"
   },
   "outputs": [],
   "source": [
    "def holiday_type(x):\n",
    "    if   (x['IsHoliday']== 1) & (x['Week']==6):\n",
    "        return 1 #SuperBowl\n",
    "    elif (x['IsHoliday']== 1) & (x['Week']==36):\n",
    "        return 2 #LaborDay\n",
    "    elif (x['IsHoliday']== 1) & (x['Week']==47):\n",
    "        return 3 #Thanksgiving\n",
    "    elif (x['IsHoliday']== 1) & (x['Week']==52):\n",
    "        return 4 #Christmas\n",
    "    else:\n",
    "        return 0"
   ]
  },
  {
   "cell_type": "code",
   "execution_count": null,
   "metadata": {
    "execution": {
     "iopub.execute_input": "2021-08-22T19:37:37.782793Z",
     "iopub.status.busy": "2021-08-22T19:37:37.782462Z",
     "iopub.status.idle": "2021-08-22T19:37:37.795129Z",
     "shell.execute_reply": "2021-08-22T19:37:37.794201Z",
     "shell.execute_reply.started": "2021-08-22T19:37:37.782762Z"
    },
    "id": "pvxsy-_k2U1F"
   },
   "outputs": [],
   "source": [
    "def holiday_label(final_data):\n",
    "    final_data.loc[(final_data.IsHoliday==True) ,'IsHoliday']= 1\n",
    "    final_data.loc[(final_data.IsHoliday==False) ,'IsHoliday']= 0\n",
    "    return final_data"
   ]
  },
  {
   "cell_type": "code",
   "execution_count": null,
   "metadata": {
    "execution": {
     "iopub.execute_input": "2021-08-22T19:37:37.797059Z",
     "iopub.status.busy": "2021-08-22T19:37:37.796736Z",
     "iopub.status.idle": "2021-08-22T19:37:37.805141Z",
     "shell.execute_reply": "2021-08-22T19:37:37.804227Z",
     "shell.execute_reply.started": "2021-08-22T19:37:37.797031Z"
    },
    "id": "Z6DEBWgm2U1F"
   },
   "outputs": [],
   "source": [
    "def type_label(final_data):\n",
    "    final_data.loc[(final_data.Type=='A') ,'Type']= 1\n",
    "    final_data.loc[(final_data.Type=='B') ,'Type']= 2\n",
    "    final_data.loc[(final_data.Type=='C') ,'Type']= 3\n",
    "    return final_data"
   ]
  },
  {
   "cell_type": "code",
   "execution_count": null,
   "metadata": {
    "execution": {
     "iopub.execute_input": "2021-08-22T19:37:37.807119Z",
     "iopub.status.busy": "2021-08-22T19:37:37.806787Z",
     "iopub.status.idle": "2021-08-22T19:37:37.818091Z",
     "shell.execute_reply": "2021-08-22T19:37:37.816957Z",
     "shell.execute_reply.started": "2021-08-22T19:37:37.80709Z"
    }
   },
   "outputs": [],
   "source": [
    "import holidays\n",
    "def holiday_in_week_train(final_data):\n",
    "    dates =[]\n",
    "    for ptr in holidays.US(years = 2010).items():\n",
    "        dates.append(ptr[0])\n",
    "    for ptr in holidays.US(years = 2011).items():\n",
    "        dates.append(ptr[0])\n",
    "    for ptr in holidays.US(years = 2012).items():\n",
    "        dates.append(ptr[0])\n",
    "    holiday_count=[] \n",
    "    for index, row in final_data.iterrows():\n",
    "        dat = final_data['Date'][index]\n",
    "        dt=[]\n",
    "        for i in range(0,5):\n",
    "            dt.append(dat - datetime.timedelta(days = i))\n",
    "        for i in range(1,3):\n",
    "            dt.append(dat + datetime.timedelta(days = i))\n",
    "        count = 0\n",
    "        for date in dates:\n",
    "            if date in dt:\n",
    "                count +=1\n",
    "        holiday_count.append(count)\n",
    "    return holiday_count  "
   ]
  },
  {
   "cell_type": "code",
   "execution_count": null,
   "metadata": {
    "execution": {
     "iopub.execute_input": "2021-08-22T19:37:37.820177Z",
     "iopub.status.busy": "2021-08-22T19:37:37.819626Z",
     "iopub.status.idle": "2021-08-22T19:37:37.832986Z",
     "shell.execute_reply": "2021-08-22T19:37:37.831943Z",
     "shell.execute_reply.started": "2021-08-22T19:37:37.82014Z"
    }
   },
   "outputs": [],
   "source": [
    "import holidays\n",
    "def holiday_in_week_test(final_data):\n",
    "    dates =[]\n",
    "    for ptr in holidays.US(years = 2010).items():\n",
    "        dates.append(ptr[0])\n",
    "    for ptr in holidays.US(years = 2011).items():\n",
    "        dates.append(ptr[0])\n",
    "    for ptr in holidays.US(years = 2012).items():\n",
    "        dates.append(ptr[0])\n",
    "    for ptr in holidays.US(years = 2013).items():\n",
    "        dates.append(ptr[0])\n",
    "    holiday_count=[] \n",
    "    for index, row in final_data.iterrows():\n",
    "        dat = final_data['Date'][index]\n",
    "        dt=[]\n",
    "        for i in range(0,5):\n",
    "            dt.append(dat - datetime.timedelta(days = i))\n",
    "        for i in range(1,3):\n",
    "            dt.append(dat + datetime.timedelta(days = i))\n",
    "        count = 0\n",
    "        for date in dates:\n",
    "            if date in dt:\n",
    "                count +=1\n",
    "        holiday_count.append(count)\n",
    "    return holiday_count"
   ]
  },
  {
   "cell_type": "markdown",
   "metadata": {
    "id": "nX0FbpZj2U1F"
   },
   "source": [
    "## Training data preprocessing and generating new features"
   ]
  },
  {
   "cell_type": "code",
   "execution_count": null,
   "metadata": {
    "execution": {
     "iopub.execute_input": "2021-08-22T19:37:37.834788Z",
     "iopub.status.busy": "2021-08-22T19:37:37.834454Z",
     "iopub.status.idle": "2021-08-22T19:39:59.02625Z",
     "shell.execute_reply": "2021-08-22T19:39:59.025118Z",
     "shell.execute_reply.started": "2021-08-22T19:37:37.834754Z"
    },
    "id": "BRu-vA7q2U1G",
    "outputId": "5e81e4c5-7bb9-4ce8-9808-fd31ad80a7ef"
   },
   "outputs": [],
   "source": [
    "final_data_train=markdown_imputation(final_data_train)\n",
    "final_data_train=weekly_sales_imputation(final_data_train)\n",
    "final_data_train,list1=train_temp_bins(final_data_train)\n",
    "final_data_train=split(final_data_train)\n",
    "final_data_train['diff_from_christmas'] = final_data_train.apply(days_from_christmas_for_train, axis=1)  \n",
    "final_data_train['days_from_thanksgiving'] = final_data_train.apply(days_from_thanksgiving_for_train, axis=1)  \n",
    "final_data_train['IsHoliday_bins'] = final_data_train.apply(holiday_type, axis=1)\n",
    "final_data_train=holiday_label(final_data_train)\n",
    "final_data_train=type_label(final_data_train)\n",
    "final_data_train['Holidays'] = np.array(holiday_in_week_train(final_data_train))"
   ]
  },
  {
   "cell_type": "markdown",
   "metadata": {
    "id": "RLs8pUGm2U1G"
   },
   "source": [
    "## Test data preprocessing and generating new features"
   ]
  },
  {
   "cell_type": "code",
   "execution_count": null,
   "metadata": {
    "execution": {
     "iopub.execute_input": "2021-08-22T19:39:59.028207Z",
     "iopub.status.busy": "2021-08-22T19:39:59.027886Z",
     "iopub.status.idle": "2021-08-22T19:40:43.452727Z",
     "shell.execute_reply": "2021-08-22T19:40:43.451752Z",
     "shell.execute_reply.started": "2021-08-22T19:39:59.028174Z"
    },
    "id": "CBJabYTF2U1H"
   },
   "outputs": [],
   "source": [
    "final_data_test=markdown_imputation(final_data_test)\n",
    "final_data_test=test_temp_bins(final_data_test,list1)\n",
    "final_data_test=split(final_data_test)\n",
    "final_data_test['diff_from_christmas'] = final_data_test.apply(days_from_christmas_for_test, axis=1) \n",
    "final_data_test['days_from_thanksgiving'] = final_data_test.apply(days_from_thanksgiving_for_test, axis=1)   \n",
    "final_data_test['IsHoliday_bins'] = final_data_test.apply(holiday_type, axis=1)\n",
    "final_data_test=holiday_label(final_data_test)\n",
    "final_data_test=type_label(final_data_test)\n",
    "final_data_test['Holidays'] = np.array(holiday_in_week_test(final_data_test))"
   ]
  },
  {
   "cell_type": "code",
   "execution_count": null,
   "metadata": {
    "execution": {
     "iopub.execute_input": "2021-08-22T19:40:43.454331Z",
     "iopub.status.busy": "2021-08-22T19:40:43.454034Z",
     "iopub.status.idle": "2021-08-22T19:40:43.499887Z",
     "shell.execute_reply": "2021-08-22T19:40:43.498903Z",
     "shell.execute_reply.started": "2021-08-22T19:40:43.454303Z"
    },
    "id": "i8UDFDy12U1H"
   },
   "outputs": [],
   "source": [
    "final_data_train=final_data_train.reset_index(drop=True)"
   ]
  },
  {
   "cell_type": "code",
   "execution_count": null,
   "metadata": {
    "execution": {
     "iopub.execute_input": "2021-08-22T19:46:47.646859Z",
     "iopub.status.busy": "2021-08-22T19:46:47.646347Z",
     "iopub.status.idle": "2021-08-22T19:46:47.735397Z",
     "shell.execute_reply": "2021-08-22T19:46:47.733052Z",
     "shell.execute_reply.started": "2021-08-22T19:46:47.646814Z"
    },
    "id": "ykqwcJMc2U1H",
    "outputId": "e1ede2f3-571c-44d6-bd9e-f75dc0c62aa1"
   },
   "outputs": [],
   "source": [
    "from sklearn.ensemble import RandomForestRegressor\n",
    "from xgboost import XGBClassifier, XGBRegressor\n",
    "final_data_train=final_data_train[['Store','Dept','IsHoliday','Size','Week','Type','Year','Weekly_Sales','Holidays','Day']]\n",
    "final_data_test=final_data_test[['Store','Dept','IsHoliday','Size','Week','Type','Year','Holidays','Day']]\n",
    "# final_data_train['Date']=pd.to_numeric(pd.to_datetime(final_data_train['Date']))\n",
    "# final_data_test['Date'] = pd.to_numeric(pd.to_datetime(final_data_test['Date']))\n",
    "final_data_train['IsHoliday']=final_data_train['IsHoliday'].astype('bool')\n",
    "final_data_test['IsHoliday']=final_data_test['IsHoliday'].astype('bool')\n",
    "final_data_train['Type']=final_data_train['Type'].astype('int')\n",
    "final_data_test['Type']=final_data_test['Type'].astype('int')\n",
    "y = final_data_train['Weekly_Sales']\n",
    "X = final_data_train.drop(['Weekly_Sales'], axis=1)\n",
    "rf_Model = RandomForestRegressor(n_estimators= 140,max_depth=27,n_jobs = -1)\n",
    "rf_Model.fit(X, y)\n",
    "y_hat= rf_Model.predict(final_data_test)"
   ]
  },
  {
   "cell_type": "code",
   "execution_count": null,
   "metadata": {
    "execution": {
     "iopub.status.busy": "2021-08-22T19:40:43.620342Z",
     "iopub.status.idle": "2021-08-22T19:40:43.620781Z"
    },
    "id": "1RxOdyXd2U1I"
   },
   "outputs": [],
   "source": [
    "sample_submission['Weekly_Sales']  = list(y_hat)"
   ]
  },
  {
   "cell_type": "code",
   "execution_count": null,
   "metadata": {
    "execution": {
     "iopub.status.busy": "2021-08-22T19:40:43.622023Z",
     "iopub.status.idle": "2021-08-22T19:40:43.622473Z"
    },
    "id": "nsxbmfXENxZM"
   },
   "outputs": [],
   "source": [
    "sample_submission.to_csv('submission.csv',index = False)"
   ]
  },
  {
   "cell_type": "code",
   "execution_count": null,
   "metadata": {},
   "outputs": [],
   "source": []
  }
 ],
 "metadata": {
  "kernelspec": {
   "display_name": "Python 3 (ipykernel)",
   "language": "python",
   "name": "python3"
  },
  "language_info": {
   "codemirror_mode": {
    "name": "ipython",
    "version": 3
   },
   "file_extension": ".py",
   "mimetype": "text/x-python",
   "name": "python",
   "nbconvert_exporter": "python",
   "pygments_lexer": "ipython3",
   "version": "3.9.7"
  }
 },
 "nbformat": 4,
 "nbformat_minor": 4
}
